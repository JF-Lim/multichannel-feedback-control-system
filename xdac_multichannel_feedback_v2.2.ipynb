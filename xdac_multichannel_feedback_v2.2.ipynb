{
 "cells": [
  {
   "cell_type": "code",
   "execution_count": 1,
   "metadata": {},
   "outputs": [
    {
     "data": {
      "text/plain": [
       "'OK:120:20:U:1'"
      ]
     },
     "execution_count": 1,
     "metadata": {},
     "output_type": "execute_result"
    }
   ],
   "source": [
    "import numpy as np\n",
    "from xdac import XDAC\n",
    "import csv\n",
    "from datetime import datetime\n",
    "import matplotlib\n",
    "matplotlib.use(\"TkAgg\")  # Interactive backend for PyCharm/scripts\n",
    "import matplotlib.pyplot as plt\n",
    "from time import time, sleep\n",
    "#UNLOCK XDAC BEFORE USE!\n",
    "xdac = XDAC()\n",
    "xdac.unlock()"
   ]
  },
  {
   "cell_type": "code",
   "execution_count": 2,
   "metadata": {},
   "outputs": [],
   "source": [
    "def calculate_virp(channel_number):\n",
    "    v = float(xdac.read_single_channel_voltage(channel_number))\n",
    "    i = float(xdac.read_single_channel_current(channel_number))\n",
    "    r = 1000 * v / i if i != 0 else float('inf')\n",
    "    p = 0.001 * v * i\n",
    "    return v, i, r, p"
   ]
  },
  {
   "cell_type": "code",
   "execution_count": 3,
   "metadata": {},
   "outputs": [],
   "source": [
    "def initialise_csv(channel_numbers, filename=None):\n",
    "\n",
    "    '''\n",
    "    Create CSV file with appropriate headers to log multi-channel data.\n",
    "    Args:\n",
    "        channel_numbers (list)\n",
    "        filename (str, optional): to reference CSV file\n",
    "    '''\n",
    "\n",
    "    # create timestamped CSV file\n",
    "    filename = f\"A13_A14_feedbackcontrol_{datetime.now().strftime('%Y%m%d_%H%M%S')}.csv\"\n",
    "\n",
    "    # create headers\n",
    "    headers = [\"Time (s)\"] # first column is always time\n",
    "\n",
    "    # for each channel, add 4 measurement columns\n",
    "    for ch in channel_numbers:\n",
    "        headers.extend([\n",
    "            f\"Ch{ch}_Voltage (V)\", \n",
    "            f\"Ch{ch}_Current (mA)\", \n",
    "            f\"Ch{ch}_Resistance (Ω)\", \n",
    "            f\"Ch{ch}_Power (W)\"\n",
    "        ])\n",
    "        \n",
    "    # create new CSV file with mode = 'w', and write headers\n",
    "    with open(filename, mode='w', newline='', encoding='utf-8') as f:\n",
    "        writer = csv.writer(f)\n",
    "        writer.writerow(headers)\n",
    "        \n",
    "    print(f\"CSV file initialised: {filename}\")\n",
    "    return filename"
   ]
  },
  {
   "cell_type": "code",
   "execution_count": 4,
   "metadata": {},
   "outputs": [],
   "source": [
    "def save_data_to_csv(data, filename, channel_numbers):\n",
    "    '''\n",
    "    Appends latest data point from each channel and \n",
    "    writes it as single row to CSV file.\n",
    "    Args:\n",
    "        data (dict): Nested dictionary containing data:\n",
    "        {\n",
    "            \"times\": [...],\n",
    "            \"ch_1\": {\"voltages\": [...], \"currents\": [...], ...},\n",
    "            \"ch_2\": {\"voltages\": [...], \"currents\": [...], ...},\n",
    "            ...\n",
    "        }\n",
    "        filename (str): path to CSV file to append data to\n",
    "        channel_numbers (list)\n",
    "\n",
    "    '''\n",
    "    with open(filename, mode= \"a\", newline=\"\", encoding=\"utf-8\") as f:\n",
    "        writer = csv.writer(f)\n",
    "\n",
    "        # if we have time data (measurements exist), build row with timestamp\n",
    "        if data[\"times\"]:\n",
    "            latest_time = data[\"times\"][-1]\n",
    "            row = [latest_time]\n",
    "\n",
    "            # get most recent measurements for each channel            \n",
    "            for ch in channel_numbers:\n",
    "\n",
    "                # get channel's data dictionary\n",
    "                ch_data = data[f\"ch_{ch}\"]\n",
    "\n",
    "                # append only most recent measurements\n",
    "                row.extend([\n",
    "                    ch_data[\"voltages\"][-1],\n",
    "                    ch_data[\"currents\"][-1], \n",
    "                    ch_data[\"resistances\"][-1],\n",
    "                    ch_data[\"powers\"][-1]\n",
    "                    ])\n",
    "                \n",
    "            # write complete row to CSV file\n",
    "            writer.writerow(row)"
   ]
  },
  {
   "cell_type": "code",
   "execution_count": 5,
   "metadata": {},
   "outputs": [],
   "source": [
    "def initialise_plots(channel_numbers):\n",
    "    '''\n",
    "    create individual plot for single channel or overlay plots for multiple channels\n",
    "    Args:\n",
    "    channel_numbers (list)\n",
    "    Returns:\n",
    "        tuple: (fig, axs, data, lines) where:\n",
    "            fig: matplotlib figure object\n",
    "            axs: array of subplot axes, always 4 subplots in 2x2 grid\n",
    "            data: nested dictionary\n",
    "            lines: matplotlib line objects\n",
    "    '''\n",
    "    plt.ion()  # Enable interactive mode for real-time updates\n",
    "    \n",
    "    n_channels = len(channel_numbers)\n",
    "    \n",
    "    if n_channels == 1:\n",
    "        # Single channel: 4 subplots\n",
    "        fig, axs = plt.subplots(2, 2, figsize=(10, 8))\n",
    "        axs = axs.ravel()  # flatten 2D array to 1D for easy indexing\n",
    "    else:\n",
    "        # Multiple channels: overlay all channels on same 4 subplots\n",
    "        fig, axs = plt.subplots(2, 2, figsize=(12, 8))\n",
    "        axs = axs.ravel()  # flatten 2D array to 1D for easy indexing\n",
    "    \n",
    "    # initiliase data structures to store measurements\n",
    "    data = {\"times\": []}\n",
    "    lines = {}\n",
    "    \n",
    "    colors = ['r-', 'g-', 'b-', 'm-', 'c-', 'y-', 'k-', 'orange', 'purple', 'brown']\n",
    "    \n",
    "    for i, ch in enumerate(channel_numbers):\n",
    "        # Initialize empty data lists for this channel\n",
    "        data[f\"ch_{ch}\"] = {\n",
    "            \"voltages\": [],\n",
    "            \"currents\": [],\n",
    "            \"resistances\": [],\n",
    "            \"powers\": []\n",
    "        }\n",
    "        \n",
    "        color = colors[i % len(colors)]\n",
    "        label = f\"Ch{ch}\"\n",
    "        \n",
    "        # create empty plot lines for each measurement\n",
    "        # all channels use same 4 subplots\n",
    "        lines[f\"ch_{ch}_voltage\"], = axs[0].plot([], [], color, label=label)\n",
    "        lines[f\"ch_{ch}_current\"], = axs[1].plot([], [], color, label=label)\n",
    "        lines[f\"ch_{ch}_resistance\"], = axs[2].plot([], [], color, label=label)\n",
    "        lines[f\"ch_{ch}_power\"], = axs[3].plot([], [], color, label=label)\n",
    "    \n",
    "    # Configure subplot appearance and labels\n",
    "    axs[0].set_title(\"Voltage\", fontsize=10)\n",
    "    axs[0].set_xlabel(\"Time (s)\", fontsize=10)\n",
    "    axs[0].set_ylabel(\"Voltage (V)\", fontsize=10)\n",
    "    axs[0].grid(True, alpha=0.3)\n",
    "    axs[0].tick_params(axis='both', which='major', labelsize=9)\n",
    "    \n",
    "    axs[1].set_title(\"Current\", fontsize=10)\n",
    "    axs[1].set_xlabel(\"Time (s)\", fontsize=10)\n",
    "    axs[1].set_ylabel(\"Current (mA)\", fontsize=10)\n",
    "    axs[1].grid(True, alpha=0.3)\n",
    "    axs[1].tick_params(axis='both', which='major', labelsize=9)\n",
    "    \n",
    "    axs[2].set_title(\"Resistance\", fontsize=10)\n",
    "    axs[2].set_xlabel(\"Time (s)\", fontsize=10)\n",
    "    axs[2].set_ylabel(\"Resistance (Ω)\", fontsize=10)\n",
    "    axs[2].grid(True, alpha=0.3)\n",
    "    axs[2].tick_params(axis='both', which='major', labelsize=9)\n",
    "    \n",
    "    axs[3].set_title(\"Power\", fontsize=10)\n",
    "    axs[3].set_xlabel(\"Time (s)\", fontsize=10)\n",
    "    axs[3].set_ylabel(\"Power (W)\", fontsize=10)\n",
    "    axs[3].grid(True, alpha=0.3)\n",
    "    axs[3].tick_params(axis='both', which='major', labelsize=9)\n",
    "    \n",
    "    # Add legends for multiple channels\n",
    "    if n_channels > 1:\n",
    "        for ax in axs:\n",
    "            ax.legend(fontsize=9)\n",
    "\n",
    "    # subplot spacing and display\n",
    "    plt.tight_layout()\n",
    "    fig.canvas.draw()\n",
    "    fig.show()\n",
    "\n",
    "    return fig, axs, data, lines"
   ]
  },
  {
   "cell_type": "code",
   "execution_count": 6,
   "metadata": {},
   "outputs": [],
   "source": [
    "def update_plots(axs, data, lines, channel_numbers, measurements, last_plot_time, plot_interval=2.0):\n",
    "    '''\n",
    "    Updates real-time plots with new measurement data from all channels.\n",
    "    Only refreshes plots every plot_interval=2.0s to prevent excessive CPU usage.\n",
    "    Returns:\n",
    "        last_plot_time (float): updated time of when plots were refreshed\n",
    "    '''\n",
    "\n",
    "    # get current time for this measurement cycle\n",
    "    current_time = time()\n",
    "    data[\"times\"].append(current_time)   # add time to shared time array\n",
    "\n",
    "    # store new measurements in data structure for each channel\n",
    "    for i, ch in enumerate(channel_numbers):\n",
    "        # extract measurements for channel\n",
    "        v, i_curr, r, p = measurements[i]\n",
    "\n",
    "        # get reference to channel's data dictionary\n",
    "        ch_data = data[f\"ch_{ch}\"]\n",
    "\n",
    "        # append new measurements to channel's data arrays\n",
    "        ch_data[\"voltages\"].append(v)\n",
    "        ch_data[\"currents\"].append(i_curr)\n",
    "        ch_data[\"resistances\"].append(r)\n",
    "        ch_data[\"powers\"].append(p)\n",
    "\n",
    "   # Always update on first data point (len == 1) or after plot_interval=2.0s\n",
    "    if current_time - last_plot_time >= plot_interval or len(data[\"times\"]) == 1:\n",
    "\n",
    "        # \n",
    "        for i, ch in enumerate(channel_numbers):    \n",
    "            ch_data = data[f\"ch_{ch}\"]   # get channel's data\n",
    "\n",
    "            # update plot lines with x=times, y=measurements            \n",
    "            lines[f\"ch_{ch}_voltage\"].set_data(data[\"times\"], ch_data[\"voltages\"])\n",
    "            lines[f\"ch_{ch}_current\"].set_data(data[\"times\"], ch_data[\"currents\"])\n",
    "            lines[f\"ch_{ch}_resistance\"].set_data(data[\"times\"], ch_data[\"resistances\"])\n",
    "            lines[f\"ch_{ch}_power\"].set_data(data[\"times\"], ch_data[\"powers\"])\n",
    "            \n",
    "        # Update axis limits for 4 subplots to accommodate new data\n",
    "        for ax in axs:\n",
    "            ax.relim()               # recalculate data limits\n",
    "            ax.autoscale_view()      # adjust axis ranges to fit all data\n",
    "\n",
    "        # brief pause for GUI to update and remain responsive\n",
    "        plt.pause(0.01)\n",
    "\n",
    "        # update time tracking when plot was last refreshed\n",
    "        last_plot_time = current_time\n",
    "\n",
    "    return last_plot_time"
   ]
  },
  {
   "cell_type": "code",
   "execution_count": 7,
   "metadata": {},
   "outputs": [],
   "source": [
    "def feedback_loop(channel_numbers, target_resistances, tolerance_resistance,\n",
    "                  fail_resistance, update_time=2.0, voltage_step=0.1,\n",
    "                  filename=None, hold_duration=None,\n",
    "                  fig=None, axs=None, data=None, lines=None):\n",
    "    \n",
    "    \"\"\"\n",
    "    Feedback loop to adjust voltage to maintain target resistance for one or multiple channels.\n",
    "    Args:\n",
    "        channel_numbers (list)\n",
    "        target_resistances (list)\n",
    "        tolerance_resistance (float): same for ALL channels\n",
    "        fail_resistance (float): same for ALL channels\n",
    "        base_update_time (float): same for ALL channels\n",
    "        voltage_step (float): same for ALL channels\n",
    "        filename (str): set to None for first feedback loop\n",
    "        hold_duration (float): set to None for the case where feedback loop is directly run\n",
    "        fig, axs, data, lines: needed for continuation of real-time plots\n",
    "    \n",
    "    Returns:\n",
    "        last_voltages (dict) comprising voltages for each channel\n",
    "        last_resistances (dict) comprising resistances for each channel\n",
    "        CSV filename: used for subsequent loops\n",
    "        fig, axs, data, lines: needed for continuation of real-time plots\n",
    "    \"\"\"\n",
    "    \n",
    "    if len(channel_numbers) != len(target_resistances):\n",
    "        raise ValueError(\"channel_numbers and target_resistances must have the same length\")\n",
    "    \n",
    "    # Initialise csv filename for saving if feedback_loop is called for the first time\n",
    "    if filename is None:\n",
    "        filename = initialise_csv(channel_numbers)\n",
    "    else:\n",
    "        print(f\"Appending data to existing file: {filename}\")\n",
    "\n",
    "    # Initialise plots if feedback_loop is called for the first time\n",
    "    if fig is None or axs is None or data is None or lines is None:\n",
    "        plt.ion() \n",
    "        fig, axs, data, lines = initialise_plots(channel_numbers)\n",
    "    \n",
    "    # ensure first plot happens immediately\n",
    "    last_plot_time = 0  \n",
    "\n",
    "    last_voltages = {}\n",
    "    last_resistances = {}\n",
    "\n",
    "    # initialise voltages and resistances for each channel \n",
    "    for ch in channel_numbers:\n",
    "        last_voltages[ch] = float(xdac.read_single_channel_voltage(ch))\n",
    "        last_resistances[ch] = 0\n",
    "\n",
    "    # timer for holding target resistances\n",
    "    hold_start_time = None\n",
    "\n",
    "    # Start feedback loop\n",
    "    try:\n",
    "        while True:\n",
    "\n",
    "            measurements = []\n",
    "            for ch in channel_numbers:\n",
    "                v, i, r, p = calculate_virp(ch)\n",
    "                measurements.append((v, i, r, p))\n",
    "                last_voltages[ch] = v\n",
    "                last_resistances[ch] = r\n",
    "\n",
    "            last_plot_time = update_plots(axs, data, lines, channel_numbers, measurements, last_plot_time)\n",
    "            save_data_to_csv(data, filename, channel_numbers)\n",
    "\n",
    "            any_channel_failed = False\n",
    "\n",
    "            # triggered when all channels reach target resistance\n",
    "            all_targets_reached = True\n",
    "\n",
    "            for i, ch in enumerate(channel_numbers):\n",
    "                v, _, r, _ = measurements[i]\n",
    "                target_r = target_resistances[i]\n",
    "\n",
    "                delta = 0\n",
    "\n",
    "                if r > target_r + tolerance_resistance:\n",
    "                    delta = -voltage_step\n",
    "                elif r < target_r - tolerance_resistance:\n",
    "                    delta = voltage_step\n",
    "\n",
    "                if delta != 0:\n",
    "\n",
    "                    new_v = round(v + delta, 3)\n",
    "\n",
    "                    # ensure voltage never drops below 1.1 V\n",
    "                    if new_v < 1.1:\n",
    "                        new_v = 1.1\n",
    "                    \n",
    "                    xdac.set_channel_voltage(ch, new_v)\n",
    "\n",
    "                # stop feedback loop if any channel has too high resistance\n",
    "                if r > fail_resistance:\n",
    "                    print(f\"Channel {ch} resistance too high. Voltage set to 0 V.\")\n",
    "                    xdac.set_channel_voltage(ch, 0)\n",
    "                    any_channel_failed = True\n",
    "                    \n",
    "                # if any channel is not within target resistance, group condition fails\n",
    "                if abs(r - target_r) > tolerance_resistance:\n",
    "                    all_targets_reached = False\n",
    "\n",
    "            if any_channel_failed:\n",
    "                break\n",
    "\n",
    "            # Start timing after all channels reach target resistance and if hold_duration is provided\n",
    "            if all_targets_reached and hold_duration is not None:\n",
    "                if hold_start_time is None:\n",
    "                    hold_start_time = time()\n",
    "                    print(\"Target resistance reached, starting hold timer...\")\n",
    "                else:\n",
    "                    # Only check elapsed time if hold_start_time is set\n",
    "                    elapsed = time() - hold_start_time\n",
    "                    if elapsed >= hold_duration:\n",
    "                        print(f\"Max duration of {hold_duration} s reached. Exiting feedback loop.\")\n",
    "                        break\n",
    "            \n",
    "            #dynamic update time based on average distances from target resistances\n",
    "            #total_distance_ratio = sum(\n",
    "                #abs(measurements[i][2] - target_resistances[i]) / tolerance_resistance\n",
    "                #for i in range(len(channel_numbers))\n",
    "            #)\n",
    "            #avg_distance_ratio = total_distance_ratio / len(channel_numbers)\n",
    "            #scale_factor = max(avg_distance_ratio, 1)\n",
    "            #sleep_time = max(base_update_time / scale_factor, fastest_update_time)\n",
    "            \n",
    "            sleep(update_time)\n",
    "\n",
    "    except KeyboardInterrupt:\n",
    "        print(\"\\nFeedback loop stopped by user.\")\n",
    "        for ch in channel_numbers:\n",
    "            xdac.set_channel_voltage(ch, last_voltages[ch])\n",
    "\n",
    "    return last_voltages, last_resistances, filename, fig, axs, data, lines"
   ]
  },
  {
   "cell_type": "code",
   "execution_count": 8,
   "metadata": {},
   "outputs": [],
   "source": [
    "def series_feedback(channel_numbers, feedback_schedule, tolerance_resistance,\n",
    "                    fail_resistance, filename=None):\n",
    "    \"\"\"\n",
    "    Run a series of feedback loops for multiple target resistances with specified hold durations.\n",
    "    \n",
    "    Args:\n",
    "        channel_numbers (list): list of channel numbers\n",
    "        feedback_schedule (list of tuples): \n",
    "            [([target1_ch1, target1_ch2, ...], hold_duration, update_time, voltage_step), ...]\n",
    "            The final target should have hold_duration=None to indicate it runs indefinitely.\n",
    "        tolerance_resistance (float)\n",
    "        fail_resistance (float)\n",
    "        filename (str or None)\n",
    "    \n",
    "    Returns:\n",
    "        last_voltages (dict), last_resistances (dict), filename\n",
    "    \"\"\"\n",
    "\n",
    "    last_voltages = {}\n",
    "    last_resistances = {}\n",
    "\n",
    "    # initialise plotting objects to keep them across steps\n",
    "    fig = axs = data = lines = None\n",
    "    \n",
    "    for i, (target_resistances, hold_duration, update_time, voltage_step) in enumerate(feedback_schedule):\n",
    "\n",
    "        # error handling\n",
    "        if len(target_resistances) != len(channel_numbers):\n",
    "            raise ValueError(\n",
    "                f\"Step {i+1}: number of target resistances ({len(target_resistances)}) \"\n",
    "                f\"does not match number of channels ({len(channel_numbers)}).\"\n",
    "            )\n",
    "        \n",
    "        print(f\"\\n--- Step {i+1}: Target resistance = {target_resistances} Ω ---\")\n",
    "        print(f\"Update time = {update_time}s, Voltage step = {voltage_step}V\")\n",
    "\n",
    "        # to check if a duration is provided\n",
    "        if hold_duration is not None:\n",
    "            print(f\"Holding target for {hold_duration} seconds after reaching it...\")\n",
    "        \n",
    "        else:\n",
    "            print(\"Final target: running feedback loop until keyboard interrupt.\")\n",
    "\n",
    "        # Run the feedback loop for this step\n",
    "        last_voltages, last_resistances, filename, fig, axs, data, lines = feedback_loop(\n",
    "            channel_numbers=channel_numbers,\n",
    "            target_resistances=target_resistances,\n",
    "            tolerance_resistance=tolerance_resistance,\n",
    "            fail_resistance=fail_resistance,\n",
    "            update_time=update_time,\n",
    "            voltage_step=voltage_step,\n",
    "            filename=filename,\n",
    "            hold_duration=hold_duration,\n",
    "            fig=fig,\n",
    "            axs=axs,\n",
    "            data=data,\n",
    "            lines=lines\n",
    "        )\n",
    "        \n",
    "        print(f\"Step {i+1} complete. Voltages: {last_voltages}, Resistances: {last_resistances}\")\n",
    "\n",
    "    # at the very end, show plot\n",
    "    plt.ioff()\n",
    "    plt.show()\n",
    "\n",
    "    return last_voltages, last_resistances, filename"
   ]
  },
  {
   "cell_type": "code",
   "execution_count": 9,
   "metadata": {},
   "outputs": [],
   "source": [
    "def constant_voltage(channel_numbers, set_voltages, update_time, voltage_step, filename=None):\n",
    "    \n",
    "    '''\n",
    "    Apply constant voltage(s) to single or multiple channels.\n",
    "    Args:\n",
    "        channel_numbers (list)\n",
    "        set_voltages (list)\n",
    "        update_time (float)\n",
    "        voltage_step (float): voltage ramp step size\n",
    "        filename: set to None\n",
    "    '''\n",
    "    if len(channel_numbers) != len(set_voltages):\n",
    "        raise ValueError(\"channel_numbers and set_voltages must have the same length\")\n",
    "    \n",
    "    # Initialise CSV filename for saving\n",
    "    if filename is None:\n",
    "        filename = initialise_csv(channel_numbers)\n",
    "\n",
    "    # Initialise plots\n",
    "    fig, axs, data, lines = initialise_plots(channel_numbers)\n",
    "    last_plot_time = 0  # ensure first plot happens immediately\n",
    "\n",
    "    # Initial voltage ramp for all channels\n",
    "    current_voltages = [0,0] * len(channel_numbers)\n",
    "\n",
    "    while any(v < target for v, target in zip(current_voltages, set_voltages)):\n",
    "\n",
    "        measurements = []\n",
    "\n",
    "        for i, ch in enumerate(channel_numbers):\n",
    "\n",
    "            # ramp up voltage\n",
    "            if current_voltages[i] < set_voltages[i]:\n",
    "                current_voltages[i] = min(current_voltages[i] + voltage_step, set_voltages[i])\n",
    "            \n",
    "            xdac.set_channel_voltage(ch, round(current_voltages[i], 3))\n",
    "\n",
    "        sleep(update_time)  # small wait for readings and prepare for next ramp up\n",
    "\n",
    "        # Read measurements from all channels\n",
    "        for ch in channel_numbers:\n",
    "            v, i, r, p = calculate_virp(ch)\n",
    "            measurements.append((v, i, r, p))\n",
    "\n",
    "        last_plot_time = update_plots(axs, data, lines, channel_numbers, measurements, last_plot_time)\n",
    "        save_data_to_csv(data, filename, channel_numbers)\n",
    "    \n",
    "    # Once ramp is completed, keeps voltage at set voltage and continue running\n",
    "    try:\n",
    "        while True:\n",
    "            measurements = []\n",
    "            \n",
    "            for i, ch in enumerate(channel_numbers):\n",
    "                xdac.set_channel_voltage(ch, round(set_voltages[i], 3))\n",
    "            \n",
    "            sleep(update_time)   # small wait for readings, continue to set same voltage afterwards\n",
    "            \n",
    "            # Read measurements from all channels\n",
    "            for ch in channel_numbers:\n",
    "                v, i, r, p = calculate_virp(ch)\n",
    "                measurements.append((v, i, r, p))\n",
    "            \n",
    "            last_plot_time = update_plots(axs, data, lines, channel_numbers, measurements, last_plot_time)\n",
    "            save_data_to_csv(data, filename, channel_numbers)\n",
    "            \n",
    "    except KeyboardInterrupt:\n",
    "        print(\"\\n Constant voltage loop stopped by user.\")\n",
    "        \n",
    "    finally:\n",
    "        plt.ioff()\n",
    "        plt.show()\n",
    "\n",
    "    return filename"
   ]
  },
  {
   "cell_type": "code",
   "execution_count": 10,
   "metadata": {},
   "outputs": [
    {
     "data": {
      "text/plain": [
       "0"
      ]
     },
     "execution_count": 10,
     "metadata": {},
     "output_type": "execute_result"
    }
   ],
   "source": [
    "xdac.set_channel_current(1, 300)\n",
    "xdac.set_channel_voltage(1, 1)"
   ]
  },
  {
   "cell_type": "code",
   "execution_count": 19,
   "metadata": {},
   "outputs": [
    {
     "data": {
      "text/plain": [
       "'0.93828'"
      ]
     },
     "execution_count": 19,
     "metadata": {},
     "output_type": "execute_result"
    }
   ],
   "source": [
    "xdac.read_single_channel_voltage(1)"
   ]
  },
  {
   "cell_type": "code",
   "execution_count": 20,
   "metadata": {},
   "outputs": [
    {
     "data": {
      "text/plain": [
       "'23.87500'"
      ]
     },
     "execution_count": 20,
     "metadata": {},
     "output_type": "execute_result"
    }
   ],
   "source": [
    "xdac.read_single_channel_current(1)"
   ]
  },
  {
   "cell_type": "code",
   "execution_count": 13,
   "metadata": {},
   "outputs": [
    {
     "data": {
      "text/plain": [
       "0"
      ]
     },
     "execution_count": 13,
     "metadata": {},
     "output_type": "execute_result"
    }
   ],
   "source": [
    "xdac.set_channel_current(2, 300)\n",
    "xdac.set_channel_voltage(2, 1)"
   ]
  },
  {
   "cell_type": "code",
   "execution_count": 16,
   "metadata": {},
   "outputs": [
    {
     "data": {
      "text/plain": [
       "'0.92715'"
      ]
     },
     "execution_count": 16,
     "metadata": {},
     "output_type": "execute_result"
    }
   ],
   "source": [
    "xdac.read_single_channel_voltage(2)"
   ]
  },
  {
   "cell_type": "code",
   "execution_count": 18,
   "metadata": {},
   "outputs": [
    {
     "data": {
      "text/plain": [
       "'23.29875'"
      ]
     },
     "execution_count": 18,
     "metadata": {},
     "output_type": "execute_result"
    }
   ],
   "source": [
    "xdac.read_single_channel_current(2)"
   ]
  },
  {
   "cell_type": "code",
   "execution_count": null,
   "metadata": {},
   "outputs": [
    {
     "name": "stdout",
     "output_type": "stream",
     "text": [
      "\n",
      "--- Step 1: Target resistance = [60, 60] Ω ---\n",
      "Update time = 0.5s, Voltage step = 0.25V\n",
      "Holding target for 30 seconds after reaching it...\n",
      "CSV file initialised: A13_A14_feedbackcontrol_20250911_114948.csv\n",
      "Target resistance reached, starting hold timer...\n",
      "Max duration of 30 s reached. Exiting feedback loop.\n",
      "Step 1 complete. Voltages: {1: 14.52324, 2: 14.46406}, Resistances: {1: 60.07638174325351, 2: 60.09633072788179}\n",
      "\n",
      "--- Step 2: Target resistance = [58.5, 62.5] Ω ---\n",
      "Update time = 0.5s, Voltage step = 0.25V\n",
      "Holding target for 30 seconds after reaching it...\n",
      "Appending data to existing file: A13_A14_feedbackcontrol_20250911_114948.csv\n",
      "Target resistance reached, starting hold timer...\n",
      "Max duration of 30 s reached. Exiting feedback loop.\n",
      "Step 2 complete. Voltages: {1: 13.58477, 2: 15.55781}, Resistances: {1: 58.57808297444577, 2: 62.5068954087526}\n",
      "\n",
      "--- Step 3: Target resistance = [55, 65] Ω ---\n",
      "Update time = 0.5s, Voltage step = 0.25V\n",
      "Holding target for 30 seconds after reaching it...\n",
      "Appending data to existing file: A13_A14_feedbackcontrol_20250911_114948.csv\n",
      "Target resistance reached, starting hold timer...\n",
      "Max duration of 30 s reached. Exiting feedback loop.\n",
      "Step 3 complete. Voltages: {1: 11.65723, 2: 16.7959}, Resistances: {1: 55.17758292212479, 2: 65.01722602872294}\n",
      "\n",
      "--- Step 4: Target resistance = [52.5, 67.5] Ω ---\n",
      "Update time = 0.5s, Voltage step = 0.25V\n",
      "Holding target for 30 seconds after reaching it...\n",
      "Appending data to existing file: A13_A14_feedbackcontrol_20250911_114948.csv\n",
      "Target resistance reached, starting hold timer...\n",
      "Max duration of 30 s reached. Exiting feedback loop.\n",
      "Step 4 complete. Voltages: {1: 9.925, 2: 17.94414}, Resistances: {1: 52.43866195555262, 2: 67.41703728402831}\n",
      "\n",
      "--- Step 5: Target resistance = [50, 70] Ω ---\n",
      "Update time = 0.5s, Voltage step = 0.25V\n",
      "Holding target for 30 seconds after reaching it...\n",
      "Appending data to existing file: A13_A14_feedbackcontrol_20250911_114948.csv\n",
      "Target resistance reached, starting hold timer...\n",
      "Max duration of 30 s reached. Exiting feedback loop.\n",
      "Step 5 complete. Voltages: {1: 8.19961, 2: 19.07891}, Resistances: {1: 50.078923862673406, 2: 69.87747851685002}\n",
      "\n",
      "--- Step 6: Target resistance = [49, 71] Ω ---\n",
      "Update time = 0.25s, Voltage step = 0.125V\n",
      "Holding target for 30 seconds after reaching it...\n",
      "Appending data to existing file: A13_A14_feedbackcontrol_20250911_114948.csv\n",
      "Target resistance reached, starting hold timer...\n",
      "Max duration of 30 s reached. Exiting feedback loop.\n",
      "Step 6 complete. Voltages: {1: 7.43359, 2: 19.5}, Resistances: {1: 49.18225199520324, 2: 70.79742406295526}\n",
      "\n",
      "--- Step 7: Target resistance = [48, 72] Ω ---\n",
      "Update time = 0.25s, Voltage step = 0.125V\n",
      "Holding target for 30 seconds after reaching it...\n",
      "Appending data to existing file: A13_A14_feedbackcontrol_20250911_114948.csv\n",
      "Target resistance reached, starting hold timer...\n",
      "Max duration of 30 s reached. Exiting feedback loop.\n",
      "Step 7 complete. Voltages: {1: 6.43418, 2: 19.99043}, Resistances: {1: 48.181217414094895, 2: 71.87182713741282}\n",
      "\n",
      "--- Step 8: Target resistance = [47, 73] Ω ---\n",
      "Update time = 0.25s, Voltage step = 0.125V\n",
      "Holding target for 30 seconds after reaching it...\n",
      "Appending data to existing file: A13_A14_feedbackcontrol_20250911_114948.csv\n",
      "Target resistance reached, starting hold timer...\n",
      "Max duration of 30 s reached. Exiting feedback loop.\n",
      "Step 8 complete. Voltages: {1: 4.7334, 2: 20.50391}, Resistances: {1: 47.054613233923575, 2: 72.92483061547489}\n",
      "\n",
      "--- Step 9: Target resistance = [46, 74] Ω ---\n",
      "Update time = 0.25s, Voltage step = 0.125V\n",
      "Holding target for 30 seconds after reaching it...\n",
      "Appending data to existing file: A13_A14_feedbackcontrol_20250911_114948.csv\n",
      "\n",
      "Feedback loop stopped by user.\n",
      "Step 9 complete. Voltages: {1: 1.0791, 2: 21.01484}, Resistances: {1: 58.381010346926345, 2: 73.88599706422663}\n",
      "\n",
      "--- Step 10: Target resistance = [45, 75] Ω ---\n",
      "Update time = 0.25s, Voltage step = 0.125V\n",
      "Final target: running feedback loop until keyboard interrupt.\n",
      "Appending data to existing file: A13_A14_feedbackcontrol_20250911_114948.csv\n"
     ]
    }
   ],
   "source": [
    "channel_numbers = [1, 2]\n",
    "\n",
    "#feedback_schedule (list of tuples): \n",
    "    #[([target1_ch1, target1_ch2, ...], hold_duration, update_time, voltage_step), ...]\n",
    "    #The final target should have hold_duration=None to indicate it runs indefinitely.\n",
    "\n",
    "feedback_schedule = [\n",
    "    ([60, 60], 30, 0.5, 0.25), \n",
    "    ([58.5, 62.5], 30, 0.5, 0.25),\n",
    "    ([55, 65], 30, 0.5, 0.25),\n",
    "    ([52.5, 67.5], 30, 0.5, 0.25),       \n",
    "    ([50, 70], 30, 0.5, 0.25),       \n",
    "    ([49, 71], 30, 0.25, 0.125),\n",
    "    ([48, 72], 30, 0.25, 0.125),\n",
    "    ([47, 73], 30, 0.25, 0.125),\n",
    "    ([46, 74], 30, 0.25, 0.125),\n",
    "    ([45, 75], None, 0.25, 0.125)      \n",
    "]\n",
    "\n",
    "last_voltages, last_resistances, filename = series_feedback(\n",
    "    channel_numbers=channel_numbers,\n",
    "    feedback_schedule=feedback_schedule,\n",
    "    tolerance_resistance=0.25,\n",
    "    fail_resistance=100,\n",
    "    filename=None,\n",
    ")"
   ]
  },
  {
   "cell_type": "code",
   "execution_count": null,
   "metadata": {},
   "outputs": [],
   "source": [
    "# 1st time feedback loop\n",
    "last_voltages, last_resistances, csv_filename, fig, axs, data, lines = feedback_loop(\n",
    "    channel_numbers=[1, 2], \n",
    "    target_resistances=[45, 55],\n",
    "    tolerance_resistance=0.5, \n",
    "    fail_resistance=100, \n",
    "    base_update_time=0.2,\n",
    "    fastest_update_time=0.2, \n",
    "    voltage_step=0.05,\n",
    "    filename=None                  # set to None to create filename for 1st time\n",
    "    )"
   ]
  },
  {
   "cell_type": "code",
   "execution_count": null,
   "metadata": {},
   "outputs": [],
   "source": []
  },
  {
   "cell_type": "code",
   "execution_count": 25,
   "metadata": {},
   "outputs": [
    {
     "name": "stdout",
     "output_type": "stream",
     "text": [
      "CSV file initialised: heater_20250830_153104.csv\n",
      "\n",
      " Constant voltage loop stopped by user.\n"
     ]
    },
    {
     "data": {
      "text/plain": [
       "'heater_20250830_153104.csv'"
      ]
     },
     "execution_count": 25,
     "metadata": {},
     "output_type": "execute_result"
    }
   ],
   "source": [
    "constant_voltage(channel_numbers=[1, 2], \n",
    "                 set_voltages=[2, 4], \n",
    "                 update_time=1.0,\n",
    "                 voltage_step=0.1,\n",
    "                 filename=None)"
   ]
  },
  {
   "cell_type": "code",
   "execution_count": null,
   "metadata": {},
   "outputs": [
    {
     "name": "stdout",
     "output_type": "stream",
     "text": [
      "Appending data to existing file: c1r6_c1r8_gnd23_cryo_20250910_152509.csv\n",
      "\n",
      "Feedback loop stopped by user.\n"
     ]
    }
   ],
   "source": [
    "# 2nd time feedback loop\n",
    "last_voltages, last_resistances, csv_filename, fig, axs, data, lines = feedback_loop(\n",
    "    channel_numbers=[1, 2],             # MUST keep same\n",
    "    target_resistances=[59, 45],        # CHANGE\n",
    "    tolerance_resistance=1.0,           # can keep same\n",
    "    fail_resistance=200,                # use higher R to ensure loop does not break\n",
    "    base_update_time=0.2,               # can keep same\n",
    "    fastest_update_time=0.2,            # can keep same\n",
    "    voltage_step=0.05,                  # can keep same, do not go below 0.05 V\n",
    "    filename=csv_filename               # use captured filename\n",
    "    )"
   ]
  },
  {
   "cell_type": "code",
   "execution_count": null,
   "metadata": {},
   "outputs": [
    {
     "name": "stdout",
     "output_type": "stream",
     "text": [
      "Appending data to existing file: heater_20250830_135834.csv\n",
      "\n",
      " Feedback loop stopped by user.\n"
     ]
    }
   ],
   "source": [
    "# More loops\n",
    "last_voltages, last_resistances, csv_filename, fig, axs, data, lines = feedback_loop(\n",
    "    channel_numbers=[1],             # MUST keep same\n",
    "    target_resistances=[50],        # CHANGE\n",
    "    tolerance_resistance=1.0,           # can keep same\n",
    "    fail_resistance=200,                # use higher R to ensure loop does not break\n",
    "    base_update_time=5.0,               # can keep same\n",
    "    fastest_update_time=5.0,            # can keep same\n",
    "    voltage_step=0.1,                   # can keep same\n",
    "    filename=csv_filename               # use captured filename\n",
    "    )"
   ]
  },
  {
   "cell_type": "code",
   "execution_count": null,
   "metadata": {},
   "outputs": [
    {
     "name": "stdout",
     "output_type": "stream",
     "text": [
      "CSV file initialised: c2r5_gnd23_20250909_150306.csv\n",
      "Channel 1 resistance too high: inf kΩ. Channel voltage set to 0 V.\n"
     ]
    }
   ],
   "source": [
    "# last feedback loop to RAMP down to V = 0\n",
    "last_voltages, last_resistances, csv_filename, fig, axs, data, lines = feedback_loop(\n",
    "    channel_numbers=[1],             # MUST keep same\n",
    "    target_resistances=[0],          # CHANGE\n",
    "    tolerance_resistance=1.0,           # can keep same\n",
    "    fail_resistance=200,                # use higher R to ensure loop does not break\n",
    "    base_update_time=1.0,               # can keep same\n",
    "    fastest_update_time=1.0,             # can keep same\n",
    "    voltage_step=0.1,                   # can keep same\n",
    "    filename=None              # use captured filename\n",
    "    )               "
   ]
  },
  {
   "cell_type": "code",
   "execution_count": 21,
   "metadata": {},
   "outputs": [
    {
     "data": {
      "text/plain": [
       "0"
      ]
     },
     "execution_count": 21,
     "metadata": {},
     "output_type": "execute_result"
    }
   ],
   "source": [
    "# for safety, set voltage back to 0 V\n",
    "xdac.set_channel_voltage(1, 0)"
   ]
  },
  {
   "cell_type": "code",
   "execution_count": 22,
   "metadata": {},
   "outputs": [
    {
     "data": {
      "text/plain": [
       "0"
      ]
     },
     "execution_count": 22,
     "metadata": {},
     "output_type": "execute_result"
    }
   ],
   "source": [
    "# for safety, set voltage back to 0 V\n",
    "xdac.set_channel_voltage(2, 0)"
   ]
  }
 ],
 "metadata": {
  "kernelspec": {
   "display_name": "Python 3",
   "language": "python",
   "name": "python3"
  },
  "language_info": {
   "codemirror_mode": {
    "name": "ipython",
    "version": 3
   },
   "file_extension": ".py",
   "mimetype": "text/x-python",
   "name": "python",
   "nbconvert_exporter": "python",
   "pygments_lexer": "ipython3",
   "version": "3.13.7"
  }
 },
 "nbformat": 4,
 "nbformat_minor": 4
}
